{
 "cells": [
  {
   "cell_type": "markdown",
   "metadata": {},
   "source": [
    "# A model of investor sentiment"
   ]
  },
  {
   "attachments": {},
   "cell_type": "markdown",
   "metadata": {},
   "source": [
    "> **Note the following:** \n",
    "> 1. This is *not* meant to be an example of an actual **model analysis project**, just an example of how to structure such a project.\n",
    "> 1. Remember the general advice on structuring and commenting your code\n",
    "> 1. The `modelproject.py` file includes a function which could be used multiple times in this notebook."
   ]
  },
  {
   "cell_type": "markdown",
   "metadata": {},
   "source": [
    "Imports and set magics:"
   ]
  },
  {
   "cell_type": "code",
   "execution_count": 1,
   "metadata": {},
   "outputs": [],
   "source": [
    "import numpy as np\n",
    "from scipy import optimize\n",
    "import sympy as sm\n",
    "\n",
    "# autoreload modules when code is run\n",
    "%load_ext autoreload\n",
    "%autoreload 2\n",
    "\n",
    "# local modules\n",
    "import modelproject"
   ]
  },
  {
   "cell_type": "markdown",
   "metadata": {},
   "source": [
    "# Model description"
   ]
  },
  {
   "attachments": {
    "image-2.png": {
     "image/png": "[encoded data removed]"
    },
    "image.png": {
     "image/png": "[encoded data removed]"
    }
   },
   "cell_type": "markdown",
   "metadata": {},
   "source": [
    "**Model setup**\n",
    "\n",
    "The purpose of this model is to understand how a representative rational investor operates on the stock market, given a wrong idea of the true model of the assets.\n",
    "\n",
    "_**True model of dividend earnings**_\n",
    "\n",
    "Earnings at time $t$: $N_t = N_{t-1}+y_t\\\\$ \n",
    "Where $y_t$ is a random shock to earnings that can take two values, $y$ and $-y$ with equal probability\n",
    "\n",
    "\n",
    "_**The mode investor believes**_\n",
    "\n",
    "Investor believes the shocks in two consecutive periods to be correlated.\\\n",
    "The correlation can be negative (Mean reversion) or positive (momentum)\\\n",
    "The two models can be described by:\n",
    "\n",
    "![image-2.png](attachment:image-2.png)\n",
    "\n",
    "Assume $\\pi_L < \\frac{1}{2} < \\pi_H$\n",
    "\n",
    "Such that if investor believes in model 1, a positive shock in $y_{t+1}$ is less likely after a positive shock in $y$\\\n",
    "If investor believes in model 2, a positive shock in $y_{t+1}$ is more likely after a positive shock in $y$\n",
    "\n",
    "If investor believes in model 1, he reacts too little to individual earnings announcements that creates a positive shock, as he expects a negative shock in the following period.\\\n",
    "Conversely, if he believes in model 2, he reacts too strongly in strings of positive shocks, as he expects the positive shocks to continue.\n",
    "\n",
    "_Model switching_\n",
    "\n",
    "Investor believes in two states of the world:\\\n",
    "$s_t = 1$: Earnings shock in $y_t$ is generated by model 1\\\n",
    "$s_t = 2$: Earnings shock in $y_t$ is generated by model 2\\\n",
    "\n",
    "![image.png](attachment:image.png)\n",
    "\n",
    "Assume $\\lambda_1+\\lambda_2 < 1$ (regime switch is rare)\n",
    "\n",
    "_**Investor's earnings forecast**_\n",
    "\n",
    "Investor observes earnings in each period and tries to understand which model is currently governing earnings.\\\n",
    "In the following, investor observes $y_{t+1}$ and calculates the probability $q_{t+1}$ = probability that model 1 generated the earnings.\\\n",
    "$q_{t+1}=P(s_{t+1}=1 | y_{t+1},y_t,q_t)$\n",
    "\n",
    "$q_{t+1}=\\frac{P(y_{t+1}|y_t,s_{t+1}=1)*P(s_{t+1}=1)}{P(y_{t+1}|y_t,s_{t+1}=1)*P(s_{t+1}=1)+P(y_{t+1}|y_t,s_{t+1}=2)*P(s_{t+1}=2)}$\n",
    "\n",
    "Where:\\\n",
    "$P(s_{t+1}=1)=(1-\\lambda_1)q_t + \\lambda_2(1-q_t)$\\\n",
    "$P(s_{t+1}=2)=\\lambda_1q_t + (1-\\lambda_2)(1-q_t)$\n",
    "\n",
    "\n",
    "_Shocks with same sign in t and t+1_\\\n",
    "$P(y_{t+1}=y|y_t=y,s_{t+1}=1)=P(y_{t+1}=-y|y_t=-y,s_{t+1}=1)=\\pi_L$\\\n",
    "$P(y_{t+1}=y|y_t=y,s_{t+1}=2)=P(y_{t+1}=-y|y_t=-y,s_{t+1}=2)=\\pi_H$\n",
    "\n",
    "$q_{t+1}=\\frac{\\pi_L[(1-\\lambda_1)q_t+\\lambda_2(1-q_t)]}{\\pi_L[(1-\\lambda_1)q_t+\\lambda_2(1-q_t)]+\\pi_H[\\lambda_1q_t+(1-\\lambda_2)(1-q_t)]}$\n",
    "\\\n",
    "\\\n",
    "\\\n",
    "\\\n",
    "_Shocks with opposite sign in t and t+1_\\\n",
    "$P(y_{t+1}=y|y_t=-y,s_{t+1}=1)=P(y_{t+1}=-y|y_t=y,s_{t+1}=1)=1-\\pi_L$\\\n",
    "$P(y_{t+1}=y|y_t=-y,s_{t+1}=2)=P(y_{t+1}=-y|y_t=y,s_{t+1}=2)=1-\\pi_H$\n",
    "\n",
    "$q_{t+1}=\\frac{(1-\\pi_L)[(1-\\lambda_1)q_t+\\lambda_2(1-q_t)]}{(1-\\pi_L)[(1-\\lambda_1)q_t+\\lambda_2(1-q_t)]+(1-\\pi_H)[\\lambda_1q_t+(1-\\lambda_2)(1-q_t)]}$"
   ]
  },
  {
   "cell_type": "markdown",
   "metadata": {},
   "source": [
    "## Analytical solution"
   ]
  },
  {
   "cell_type": "markdown",
   "metadata": {},
   "source": [
    "If your model allows for an analytical solution, you should provide here.\n",
    "\n",
    "You may use Sympy for this. Then you can characterize the solution as a function of a parameter of the model.\n",
    "\n",
    "To characterize the solution, first derive a steady state equation as a function of a parameter using Sympy.solve and then turn it into a python function by Sympy.lambdify. See the lecture notes for details. "
   ]
  },
  {
   "cell_type": "markdown",
   "metadata": {},
   "source": [
    "## Numerical solution"
   ]
  },
  {
   "cell_type": "markdown",
   "metadata": {},
   "source": [
    "You can always solve a model numerically. \n",
    "\n",
    "Define first the set of parameters you need. \n",
    "\n",
    "Then choose one of the optimization algorithms that we have gone through in the lectures based on what you think is most fitting for your model.\n",
    "\n",
    "Are there any problems with convergence? Does the model converge for all starting values? Make a lot of testing to figure these things out. "
   ]
  },
  {
   "cell_type": "markdown",
   "metadata": {},
   "source": [
    "# Further analysis"
   ]
  },
  {
   "cell_type": "markdown",
   "metadata": {},
   "source": [
    "Make detailed vizualizations of how your model changes with parameter values. \n",
    "\n",
    "Try to make an extension of the model. "
   ]
  },
  {
   "cell_type": "markdown",
   "metadata": {},
   "source": [
    "# Conclusion"
   ]
  },
  {
   "cell_type": "markdown",
   "metadata": {},
   "source": [
    "Add concise conclusion. "
   ]
  }
 ],
 "metadata": {
  "kernelspec": {
   "display_name": "base",
   "language": "python",
   "name": "python3"
  },
  "language_info": {
   "codemirror_mode": {
    "name": "ipython",
    "version": 3
   },
   "file_extension": ".py",
   "mimetype": "text/x-python",
   "name": "python",
   "nbconvert_exporter": "python",
   "pygments_lexer": "ipython3",
   "version": "3.11.7"
  },
  "toc-autonumbering": true,
  "vscode": {
   "interpreter": {
    "hash": "47ef90cdf3004d3f859f1fb202523c65c07ba7c22eefd261b181f4744e2d0403"
   }
  }
 },
 "nbformat": 4,
 "nbformat_minor": 4
}
